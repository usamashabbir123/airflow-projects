{
 "cells": [
  {
   "cell_type": "code",
   "execution_count": null,
   "id": "55a0f5e6",
   "metadata": {},
   "outputs": [
    {
     "ename": "AttributeError",
     "evalue": "'Connection' object has no attribute 'execute'",
     "output_type": "error",
     "traceback": [
      "\u001b[31m---------------------------------------------------------------------------\u001b[39m",
      "\u001b[31mAttributeError\u001b[39m                            Traceback (most recent call last)",
      "\u001b[36mCell\u001b[39m\u001b[36m \u001b[39m\u001b[32mIn[2]\u001b[39m\u001b[32m, line 25\u001b[39m\n\u001b[32m     16\u001b[39m connection = pymysql.connect(\n\u001b[32m     17\u001b[39m     host=\u001b[33m'\u001b[39m\u001b[33mlocalhost\u001b[39m\u001b[33m'\u001b[39m,\n\u001b[32m     18\u001b[39m     user=\u001b[33m'\u001b[39m\u001b[33mroot\u001b[39m\u001b[33m'\u001b[39m,\n\u001b[32m   (...)\u001b[39m\u001b[32m     22\u001b[39m     cursorclass=pymysql.cursors.DictCursor  \n\u001b[32m     23\u001b[39m )\n\u001b[32m     24\u001b[39m dataClearning = DataClearing(connection)\n\u001b[32m---> \u001b[39m\u001b[32m25\u001b[39m \u001b[43mdataClearning\u001b[49m\u001b[43m.\u001b[49m\u001b[43mload_data\u001b[49m\u001b[43m(\u001b[49m\u001b[43m)\u001b[49m\n",
      "\u001b[36mCell\u001b[39m\u001b[36m \u001b[39m\u001b[32mIn[2]\u001b[39m\u001b[32m, line 8\u001b[39m, in \u001b[36mDataClearing.load_data\u001b[39m\u001b[34m(self)\u001b[39m\n\u001b[32m      7\u001b[39m \u001b[38;5;28;01mdef\u001b[39;00m\u001b[38;5;250m \u001b[39m\u001b[34mload_data\u001b[39m(\u001b[38;5;28mself\u001b[39m):\n\u001b[32m----> \u001b[39m\u001b[32m8\u001b[39m     \u001b[38;5;28;43mself\u001b[39;49m\u001b[43m.\u001b[49m\u001b[43mconn\u001b[49m\u001b[43m.\u001b[49m\u001b[43mexecute\u001b[49m(\u001b[33m\"\u001b[39m\u001b[33mSELECT * FROM raw_data\u001b[39m\u001b[33m\"\u001b[39m)\n\u001b[32m      9\u001b[39m     rows = \u001b[38;5;28mself\u001b[39m.conn.fetchall()\n\u001b[32m     10\u001b[39m     \u001b[38;5;28mself\u001b[39m.data=rows\n",
      "\u001b[31mAttributeError\u001b[39m: 'Connection' object has no attribute 'execute'"
     ]
    }
   ],
   "source": []
  }
 ],
 "metadata": {
  "kernelspec": {
   "display_name": "Python 3",
   "language": "python",
   "name": "python3"
  },
  "language_info": {
   "codemirror_mode": {
    "name": "ipython",
    "version": 3
   },
   "file_extension": ".py",
   "mimetype": "text/x-python",
   "name": "python",
   "nbconvert_exporter": "python",
   "pygments_lexer": "ipython3",
   "version": "3.13.5"
  }
 },
 "nbformat": 4,
 "nbformat_minor": 5
}
