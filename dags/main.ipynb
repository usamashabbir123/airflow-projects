{
 "cells": [
  {
   "cell_type": "code",
   "execution_count": 7,
   "id": "58fecf0c",
   "metadata": {},
   "outputs": [
    {
     "name": "stdout",
     "output_type": "stream",
     "text": [
      "localhost 3306 root 1122 airflow\n",
      "Connecting to MySQL database...\n",
      "Connection established.\n",
      "Initial data shape: (10, 5)\n",
      "Initial data :    id         name                    email    age          created_at\n",
      "0  11    john doe        JOHN.DOE@EMAIL.COM   25.0 2024-06-01 10:00:00\n",
      "1  12  jane  smith  jane.smith at email.com  200.0 2024-06-02 11:00:00\n",
      "2  13         None                     None   -5.0                 NaT\n",
      "3  14        ALICE      alice@@example..com   30.0 2024-07-01 09:00:00\n",
      "4  15          bob          bob@example.com    NaN 2024-07-02 08:00:00\n",
      "5  16          Eve            eve@EMAIL.com  150.0 2024-07-03 07:00:00\n",
      "6  17    Mallory                              45.0                 NaT\n",
      "7  18        Trudy          trudy.email.com    0.0 2024-07-04 06:00:00\n",
      "8  19        Oscar                     None    NaN                 NaT\n",
      "9  20        peggy            peggy@example   35.0 2024-07-05 05:00:00\n",
      "data cleaning completed [{'id': 11, 'name': ' john doe ', 'email': 'JOHN.DOE@EMAIL.COM', 'age': 25.0, 'created_at': Timestamp('2024-06-01 10:00:00')}, {'id': 12, 'name': 'jane  smith', 'email': 'jane.smith at email.com', 'age': 32.5, 'created_at': Timestamp('2024-06-02 11:00:00')}, {'id': 13, 'name': None, 'email': None, 'age': 32.5, 'created_at': Timestamp('2025-07-20 08:18:00.033766')}, {'id': 14, 'name': 'ALICE', 'email': 'alice@@example..com', 'age': 30.0, 'created_at': Timestamp('2024-07-01 09:00:00')}, {'id': 15, 'name': ' bob', 'email': 'bob@example.com', 'age': 32.5, 'created_at': Timestamp('2024-07-02 08:00:00')}, {'id': 16, 'name': 'Eve', 'email': 'eve@EMAIL.com', 'age': 32.5, 'created_at': Timestamp('2024-07-03 07:00:00')}, {'id': 17, 'name': '  Mallory  ', 'email': '', 'age': 45.0, 'created_at': Timestamp('2025-07-20 08:18:00.033766')}, {'id': 18, 'name': 'Trudy', 'email': 'trudy.email.com', 'age': 32.5, 'created_at': Timestamp('2024-07-04 06:00:00')}, {'id': 19, 'name': 'Oscar', 'email': None, 'age': 32.5, 'created_at': Timestamp('2025-07-20 08:18:00.033766')}, {'id': 20, 'name': 'peggy', 'email': 'peggy@example', 'age': 35.0, 'created_at': Timestamp('2024-07-05 05:00:00')}]\n",
      "PostgreSQL connection params: localhost:5432\n",
      "Connecting to PostgreSQL database...\n",
      "PostgreSQL connection established.\n",
      "PostgreSQL connected\n",
      "Table created successfully\n",
      "Data saved successfully\n"
     ]
    }
   ],
   "source": [
    "from database.mysql import MySqlConnector\n",
    "from processing.processing import DataClearing\n",
    "\n",
    "con=MySqlConnector()\n",
    "con.connect()\n",
    "dc=DataClearing(con)\n",
    "dc.load_data()\n",
    "dc.transform_data()\n",
    "dc.save_data()\n",
    "\n",
    "\n",
    "# dc.transform_data()\n"
   ]
  },
  {
   "cell_type": "code",
   "execution_count": null,
   "id": "254dbddc",
   "metadata": {},
   "outputs": [],
   "source": []
  }
 ],
 "metadata": {
  "kernelspec": {
   "display_name": "Python 3",
   "language": "python",
   "name": "python3"
  },
  "language_info": {
   "codemirror_mode": {
    "name": "ipython",
    "version": 3
   },
   "file_extension": ".py",
   "mimetype": "text/x-python",
   "name": "python",
   "nbconvert_exporter": "python",
   "pygments_lexer": "ipython3",
   "version": "3.13.5"
  }
 },
 "nbformat": 4,
 "nbformat_minor": 5
}
