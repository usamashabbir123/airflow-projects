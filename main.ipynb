{
 "cells": [
  {
   "cell_type": "code",
   "execution_count": 22,
   "id": "58fecf0c",
   "metadata": {},
   "outputs": [
    {
     "name": "stdout",
     "output_type": "stream",
     "text": [
      "<class 'pandas.core.frame.DataFrame'>\n",
      "RangeIndex: 37562 entries, 0 to 37561\n",
      "Data columns (total 22 columns):\n",
      " #   Column                       Non-Null Count  Dtype  \n",
      "---  ------                       --------------  -----  \n",
      " 0   LISTING_ID                   37562 non-null  int64  \n",
      " 1   SCRAPE_ID                    37562 non-null  int64  \n",
      " 2   SCRAPED_DATE                 37562 non-null  object \n",
      " 3   HOST_ID                      37562 non-null  int64  \n",
      " 4   HOST_NAME                    37559 non-null  object \n",
      " 5   HOST_SINCE                   37559 non-null  object \n",
      " 6   HOST_IS_SUPERHOST            37559 non-null  object \n",
      " 7   HOST_NEIGHBOURHOOD           24908 non-null  object \n",
      " 8   LISTING_NEIGHBOURHOOD        37562 non-null  object \n",
      " 9   PROPERTY_TYPE                37562 non-null  object \n",
      " 10  ROOM_TYPE                    37562 non-null  object \n",
      " 11  ACCOMMODATES                 37562 non-null  int64  \n",
      " 12  PRICE                        37562 non-null  int64  \n",
      " 13  HAS_AVAILABILITY             37562 non-null  object \n",
      " 14  AVAILABILITY_30              37562 non-null  int64  \n",
      " 15  NUMBER_OF_REVIEWS            37562 non-null  int64  \n",
      " 16  REVIEW_SCORES_RATING         26013 non-null  float64\n",
      " 17  REVIEW_SCORES_ACCURACY       25968 non-null  float64\n",
      " 18  REVIEW_SCORES_CLEANLINESS    25984 non-null  float64\n",
      " 19  REVIEW_SCORES_CHECKIN        25956 non-null  float64\n",
      " 20  REVIEW_SCORES_COMMUNICATION  25981 non-null  float64\n",
      " 21  REVIEW_SCORES_VALUE          25951 non-null  float64\n",
      "dtypes: float64(6), int64(7), object(9)\n",
      "memory usage: 6.3+ MB\n"
     ]
    }
   ],
   "source": [
    "import pandas as pd\n",
    "\n",
    "# df=pd.read_csv('dags/datasets/Census_LGA/2016Census_G01_NSW_LGA.csv')\n",
    "df=pd.read_csv('dags/datasets/airnub/05_2020.csv')\n",
    "\n",
    "# df.info\n",
    "df.info()"
   ]
  },
  {
   "cell_type": "code",
   "execution_count": null,
   "id": "254dbddc",
   "metadata": {},
   "outputs": [],
   "source": []
  }
 ],
 "metadata": {
  "kernelspec": {
   "display_name": "base",
   "language": "python",
   "name": "python3"
  },
  "language_info": {
   "codemirror_mode": {
    "name": "ipython",
    "version": 3
   },
   "file_extension": ".py",
   "mimetype": "text/x-python",
   "name": "python",
   "nbconvert_exporter": "python",
   "pygments_lexer": "ipython3",
   "version": "3.9.23"
  }
 },
 "nbformat": 4,
 "nbformat_minor": 5
}
